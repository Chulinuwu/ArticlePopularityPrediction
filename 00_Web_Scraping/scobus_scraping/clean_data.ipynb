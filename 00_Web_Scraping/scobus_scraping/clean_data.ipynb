{
 "cells": [
  {
   "cell_type": "code",
   "execution_count": null,
   "metadata": {},
   "outputs": [],
   "source": [
    "import pandas as pd"
   ]
  },
  {
   "cell_type": "code",
   "execution_count": null,
   "metadata": {},
   "outputs": [],
   "source": [
    "# Loading csv file\n",
    "df = pd.read_csv('input_file.csv') # Change 'input_file.csv'\n",
    "print(df.head())\n",
    "print(df.info())"
   ]
  },
  {
   "cell_type": "code",
   "execution_count": null,
   "metadata": {},
   "outputs": [],
   "source": [
    "# replace \";\" with \",\" in Author Keywords\n",
    "df['Author Keywords'] = df['Author Keywords'].str.replace(';', ',', regex=False)"
   ]
  },
  {
   "cell_type": "code",
   "execution_count": null,
   "metadata": {},
   "outputs": [],
   "source": [
    "# Export new csv\n",
    "df[['Title','Source title','Cited by','Authors Country','Author Keywords', 'Year']].to_csv('output_file_filtered.csv', index=False) # Change 'output_file_filtered.csv'"
   ]
  }
 ],
 "metadata": {
  "kernelspec": {
   "display_name": "dsde-cedt",
   "language": "python",
   "name": "python3"
  },
  "language_info": {
   "name": "python",
   "version": "3.11.10"
  }
 },
 "nbformat": 4,
 "nbformat_minor": 2
}
