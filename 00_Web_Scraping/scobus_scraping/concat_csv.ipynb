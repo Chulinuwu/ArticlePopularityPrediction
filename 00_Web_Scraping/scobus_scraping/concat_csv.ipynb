{
 "cells": [
  {
   "cell_type": "code",
   "execution_count": null,
   "metadata": {},
   "outputs": [],
   "source": [
    "import pandas as pd\n",
    "import os"
   ]
  },
  {
   "cell_type": "code",
   "execution_count": null,
   "metadata": {},
   "outputs": [],
   "source": [
    "def concat_csv_files(file_list, output_file):\n",
    "    # Read and concatenate CSV files\n",
    "    df_list = [pd.read_csv(file) for file in file_list]\n",
    "    concatenated_df = pd.concat(df_list, ignore_index=True)\n",
    "    \n",
    "    # Save the concatenated DataFrame to a new CSV file\n",
    "    concatenated_df.to_csv(output_file, index=False)\n",
    "    print(f\"Concatenated CSV saved to {output_file}\")"
   ]
  },
  {
   "cell_type": "code",
   "execution_count": null,
   "metadata": {},
   "outputs": [],
   "source": [
    "if __name__ == \"__main__\":\n",
    "    \n",
    "    # List of CSV files to concatenate\n",
    "    csv_files = [\n",
    "        # 'input_file.csv',\n",
    "        # 'input_file.csv',\n",
    "        # 'input_file.csv',\n",
    "        # 'input_file.csv',\n",
    "    ]\n",
    "    \n",
    "    # Output file path\n",
    "    output_csv = 'output_file.csv'\n",
    "    \n",
    "    concat_csv_files(csv_files, output_csv)"
   ]
  }
 ],
 "metadata": {
  "kernelspec": {
   "display_name": "dsde-cedt",
   "language": "python",
   "name": "python3"
  },
  "language_info": {
   "name": "python",
   "version": "3.11.10"
  }
 },
 "nbformat": 4,
 "nbformat_minor": 2
}
