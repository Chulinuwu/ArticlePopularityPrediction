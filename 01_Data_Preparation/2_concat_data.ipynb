{
 "cells": [
  {
   "cell_type": "code",
   "execution_count": 1,
   "metadata": {},
   "outputs": [],
   "source": [
    "import pandas as pd"
   ]
  },
  {
   "cell_type": "code",
   "execution_count": 2,
   "metadata": {},
   "outputs": [],
   "source": [
    "df1 = pd.read_csv(\"1_data_ajarn.csv\")\n",
    "df2 = pd.read_csv(\"scopus_filtered.csv\")\n",
    "df3 = pd.read_csv(\"100_000_filtered.csv\")\n",
    "df4 = pd.read_csv(\"10000_filtered.csv\")"
   ]
  },
  {
   "cell_type": "code",
   "execution_count": 51,
   "metadata": {},
   "outputs": [
    {
     "data": {
      "text/plain": [
       "Title                  0\n",
       "Source title          43\n",
       "Cited by               6\n",
       "Authors Country     7980\n",
       "Author Keywords    20410\n",
       "Year                   0\n",
       "dtype: int64"
      ]
     },
     "execution_count": 51,
     "metadata": {},
     "output_type": "execute_result"
    }
   ],
   "source": [
    "df3.isnull().sum()"
   ]
  },
  {
   "cell_type": "code",
   "execution_count": 52,
   "metadata": {},
   "outputs": [],
   "source": [
    "df2 = df2.dropna()\n",
    "df3 = df3.dropna()\n",
    "df4 = df4.dropna()"
   ]
  },
  {
   "cell_type": "code",
   "execution_count": 53,
   "metadata": {},
   "outputs": [
    {
     "data": {
      "text/html": [
       "<div>\n",
       "<style scoped>\n",
       "    .dataframe tbody tr th:only-of-type {\n",
       "        vertical-align: middle;\n",
       "    }\n",
       "\n",
       "    .dataframe tbody tr th {\n",
       "        vertical-align: top;\n",
       "    }\n",
       "\n",
       "    .dataframe thead th {\n",
       "        text-align: right;\n",
       "    }\n",
       "</style>\n",
       "<table border=\"1\" class=\"dataframe\">\n",
       "  <thead>\n",
       "    <tr style=\"text-align: right;\">\n",
       "      <th></th>\n",
       "      <th>Year</th>\n",
       "      <th>Title</th>\n",
       "      <th>PublicationName</th>\n",
       "      <th>CitedByCount</th>\n",
       "      <th>AffiliationCountry</th>\n",
       "      <th>AuthorKeywords</th>\n",
       "    </tr>\n",
       "  </thead>\n",
       "  <tbody>\n",
       "    <tr>\n",
       "      <th>0</th>\n",
       "      <td>2021</td>\n",
       "      <td>Does proactive logistics management enhance bu...</td>\n",
       "      <td>Polish Journal of Management Studies</td>\n",
       "      <td>0</td>\n",
       "      <td>Thailand,Thailand,Thailand,Myanmar,Thailand</td>\n",
       "      <td>Business management,Firm size,Logistics awaren...</td>\n",
       "    </tr>\n",
       "    <tr>\n",
       "      <th>1</th>\n",
       "      <td>2021</td>\n",
       "      <td>Will There Ever Be Cure for Chronic, Life-Chan...</td>\n",
       "      <td>Frontiers in Medicine</td>\n",
       "      <td>3</td>\n",
       "      <td>Thailand,Thailand,Thailand,Thailand,Thailand,J...</td>\n",
       "      <td>biofilm infections,chronic infection,chronic u...</td>\n",
       "    </tr>\n",
       "    <tr>\n",
       "      <th>2</th>\n",
       "      <td>2021</td>\n",
       "      <td>Bacterial diversity and potential risk factors...</td>\n",
       "      <td>PeerJ</td>\n",
       "      <td>6</td>\n",
       "      <td>United States,Thailand</td>\n",
       "      <td>Escherichia coli,Risk factors,Salmonella enter...</td>\n",
       "    </tr>\n",
       "    <tr>\n",
       "      <th>3</th>\n",
       "      <td>2021</td>\n",
       "      <td>Global Perspectives on Immunization Against SA...</td>\n",
       "      <td>Frontiers in Immunology</td>\n",
       "      <td>9</td>\n",
       "      <td>Canada,South Africa,South Africa,United States...</td>\n",
       "      <td>COVID-19,maternal immunization,maternal vaccin...</td>\n",
       "    </tr>\n",
       "    <tr>\n",
       "      <th>4</th>\n",
       "      <td>2021</td>\n",
       "      <td>Deep Learning Enables Prostate MRI Segmentatio...</td>\n",
       "      <td>Frontiers in Oncology</td>\n",
       "      <td>4</td>\n",
       "      <td>United States,United States,China,Thailand,Uni...</td>\n",
       "      <td>deep attentive neural network,large cohort eva...</td>\n",
       "    </tr>\n",
       "  </tbody>\n",
       "</table>\n",
       "</div>"
      ],
      "text/plain": [
       "   Year                                              Title  \\\n",
       "0  2021  Does proactive logistics management enhance bu...   \n",
       "1  2021  Will There Ever Be Cure for Chronic, Life-Chan...   \n",
       "2  2021  Bacterial diversity and potential risk factors...   \n",
       "3  2021  Global Perspectives on Immunization Against SA...   \n",
       "4  2021  Deep Learning Enables Prostate MRI Segmentatio...   \n",
       "\n",
       "                        PublicationName  CitedByCount  \\\n",
       "0  Polish Journal of Management Studies             0   \n",
       "1                 Frontiers in Medicine             3   \n",
       "2                                 PeerJ             6   \n",
       "3               Frontiers in Immunology             9   \n",
       "4                 Frontiers in Oncology             4   \n",
       "\n",
       "                                  AffiliationCountry  \\\n",
       "0        Thailand,Thailand,Thailand,Myanmar,Thailand   \n",
       "1  Thailand,Thailand,Thailand,Thailand,Thailand,J...   \n",
       "2                             United States,Thailand   \n",
       "3  Canada,South Africa,South Africa,United States...   \n",
       "4  United States,United States,China,Thailand,Uni...   \n",
       "\n",
       "                                      AuthorKeywords  \n",
       "0  Business management,Firm size,Logistics awaren...  \n",
       "1  biofilm infections,chronic infection,chronic u...  \n",
       "2  Escherichia coli,Risk factors,Salmonella enter...  \n",
       "3  COVID-19,maternal immunization,maternal vaccin...  \n",
       "4  deep attentive neural network,large cohort eva...  "
      ]
     },
     "execution_count": 53,
     "metadata": {},
     "output_type": "execute_result"
    }
   ],
   "source": [
    "df1.head(5)"
   ]
  },
  {
   "cell_type": "code",
   "execution_count": 54,
   "metadata": {},
   "outputs": [
    {
     "name": "stdout",
     "output_type": "stream",
     "text": [
      "<class 'pandas.core.frame.DataFrame'>\n",
      "RangeIndex: 7667 entries, 0 to 7666\n",
      "Data columns (total 6 columns):\n",
      " #   Column              Non-Null Count  Dtype \n",
      "---  ------              --------------  ----- \n",
      " 0   Year                7667 non-null   int64 \n",
      " 1   Title               7667 non-null   object\n",
      " 2   PublicationName     7667 non-null   object\n",
      " 3   CitedByCount        7667 non-null   int64 \n",
      " 4   AffiliationCountry  7667 non-null   object\n",
      " 5   AuthorKeywords      7667 non-null   object\n",
      "dtypes: int64(2), object(4)\n",
      "memory usage: 359.5+ KB\n"
     ]
    }
   ],
   "source": [
    "df1.info()"
   ]
  },
  {
   "cell_type": "code",
   "execution_count": 55,
   "metadata": {},
   "outputs": [
    {
     "data": {
      "text/html": [
       "<div>\n",
       "<style scoped>\n",
       "    .dataframe tbody tr th:only-of-type {\n",
       "        vertical-align: middle;\n",
       "    }\n",
       "\n",
       "    .dataframe tbody tr th {\n",
       "        vertical-align: top;\n",
       "    }\n",
       "\n",
       "    .dataframe thead th {\n",
       "        text-align: right;\n",
       "    }\n",
       "</style>\n",
       "<table border=\"1\" class=\"dataframe\">\n",
       "  <thead>\n",
       "    <tr style=\"text-align: right;\">\n",
       "      <th></th>\n",
       "      <th>Title</th>\n",
       "      <th>Source title</th>\n",
       "      <th>Cited by</th>\n",
       "      <th>Authors Country</th>\n",
       "      <th>Author Keywords</th>\n",
       "      <th>Year</th>\n",
       "    </tr>\n",
       "  </thead>\n",
       "  <tbody>\n",
       "    <tr>\n",
       "      <th>0</th>\n",
       "      <td>Design, synthesis, and biological investigatio...</td>\n",
       "      <td>Journal of Enzyme Inhibition and Medicinal Che...</td>\n",
       "      <td>4</td>\n",
       "      <td>Italy</td>\n",
       "      <td>antiproliferative activity, Carbonic anhydrase...</td>\n",
       "      <td>2023</td>\n",
       "    </tr>\n",
       "    <tr>\n",
       "      <th>1</th>\n",
       "      <td>Structure-Activity Relationships of Pyrazolo[1...</td>\n",
       "      <td>ACS Infectious Diseases</td>\n",
       "      <td>11</td>\n",
       "      <td>United Kingdom, United States, South Africa</td>\n",
       "      <td>antitubercular activity, pyrazolo[1,5- a]pyrim...</td>\n",
       "      <td>2021</td>\n",
       "    </tr>\n",
       "    <tr>\n",
       "      <th>2</th>\n",
       "      <td>Design and synthesis of new imidazo[1,2-a]pyri...</td>\n",
       "      <td>European Journal of Medicinal Chemistry</td>\n",
       "      <td>28</td>\n",
       "      <td>Hungary</td>\n",
       "      <td>A375P, Antiproliferative activity, Diarylamide...</td>\n",
       "      <td>2016</td>\n",
       "    </tr>\n",
       "    <tr>\n",
       "      <th>3</th>\n",
       "      <td>Discovery, structural insight, and bioactiviti...</td>\n",
       "      <td>European Journal of Medicinal Chemistry</td>\n",
       "      <td>40</td>\n",
       "      <td>China</td>\n",
       "      <td>BD2, BET protein, Bromodomain, Crystal structu...</td>\n",
       "      <td>2019</td>\n",
       "    </tr>\n",
       "    <tr>\n",
       "      <th>4</th>\n",
       "      <td>Synthesis and evaluation of imidazo[1,2-a]pyra...</td>\n",
       "      <td>European Journal of Medicinal Chemistry</td>\n",
       "      <td>4</td>\n",
       "      <td>China</td>\n",
       "      <td>Antitumor, G proteins, Gαq/11 inhibitors, imid...</td>\n",
       "      <td>2022</td>\n",
       "    </tr>\n",
       "  </tbody>\n",
       "</table>\n",
       "</div>"
      ],
      "text/plain": [
       "                                               Title  \\\n",
       "0  Design, synthesis, and biological investigatio...   \n",
       "1  Structure-Activity Relationships of Pyrazolo[1...   \n",
       "2  Design and synthesis of new imidazo[1,2-a]pyri...   \n",
       "3  Discovery, structural insight, and bioactiviti...   \n",
       "4  Synthesis and evaluation of imidazo[1,2-a]pyra...   \n",
       "\n",
       "                                        Source title  Cited by  \\\n",
       "0  Journal of Enzyme Inhibition and Medicinal Che...         4   \n",
       "1                            ACS Infectious Diseases        11   \n",
       "2            European Journal of Medicinal Chemistry        28   \n",
       "3            European Journal of Medicinal Chemistry        40   \n",
       "4            European Journal of Medicinal Chemistry         4   \n",
       "\n",
       "                               Authors Country  \\\n",
       "0                                        Italy   \n",
       "1  United Kingdom, United States, South Africa   \n",
       "2                                      Hungary   \n",
       "3                                        China   \n",
       "4                                        China   \n",
       "\n",
       "                                     Author Keywords  Year  \n",
       "0  antiproliferative activity, Carbonic anhydrase...  2023  \n",
       "1  antitubercular activity, pyrazolo[1,5- a]pyrim...  2021  \n",
       "2  A375P, Antiproliferative activity, Diarylamide...  2016  \n",
       "3  BD2, BET protein, Bromodomain, Crystal structu...  2019  \n",
       "4  Antitumor, G proteins, Gαq/11 inhibitors, imid...  2022  "
      ]
     },
     "execution_count": 55,
     "metadata": {},
     "output_type": "execute_result"
    }
   ],
   "source": [
    "df2.head(5)"
   ]
  },
  {
   "cell_type": "code",
   "execution_count": 56,
   "metadata": {},
   "outputs": [
    {
     "name": "stdout",
     "output_type": "stream",
     "text": [
      "<class 'pandas.core.frame.DataFrame'>\n",
      "Index: 1314 entries, 0 to 1998\n",
      "Data columns (total 6 columns):\n",
      " #   Column           Non-Null Count  Dtype \n",
      "---  ------           --------------  ----- \n",
      " 0   Title            1314 non-null   object\n",
      " 1   Source title     1314 non-null   object\n",
      " 2   Cited by         1314 non-null   int64 \n",
      " 3   Authors Country  1314 non-null   object\n",
      " 4   Author Keywords  1314 non-null   object\n",
      " 5   Year             1314 non-null   int64 \n",
      "dtypes: int64(2), object(4)\n",
      "memory usage: 71.9+ KB\n"
     ]
    }
   ],
   "source": [
    "df2.info()"
   ]
  },
  {
   "cell_type": "code",
   "execution_count": 57,
   "metadata": {},
   "outputs": [
    {
     "data": {
      "text/html": [
       "<div>\n",
       "<style scoped>\n",
       "    .dataframe tbody tr th:only-of-type {\n",
       "        vertical-align: middle;\n",
       "    }\n",
       "\n",
       "    .dataframe tbody tr th {\n",
       "        vertical-align: top;\n",
       "    }\n",
       "\n",
       "    .dataframe thead th {\n",
       "        text-align: right;\n",
       "    }\n",
       "</style>\n",
       "<table border=\"1\" class=\"dataframe\">\n",
       "  <thead>\n",
       "    <tr style=\"text-align: right;\">\n",
       "      <th></th>\n",
       "      <th>Title</th>\n",
       "      <th>Source title</th>\n",
       "      <th>Cited by</th>\n",
       "      <th>Authors Country</th>\n",
       "      <th>Author Keywords</th>\n",
       "      <th>Year</th>\n",
       "    </tr>\n",
       "  </thead>\n",
       "  <tbody>\n",
       "    <tr>\n",
       "      <th>0</th>\n",
       "      <td>A rabbit monoclonal antibody-mediated lateral ...</td>\n",
       "      <td>International Journal of Biological Macromolec...</td>\n",
       "      <td>4.0</td>\n",
       "      <td>Japan, United States</td>\n",
       "      <td>CTX-M, ESBL, Lateral flow immunoassay, LFIA, P...</td>\n",
       "      <td>2021</td>\n",
       "    </tr>\n",
       "    <tr>\n",
       "      <th>1</th>\n",
       "      <td>blaCTX-M-152, a Novel Variant of CTX-M-group-2...</td>\n",
       "      <td>Frontiers in Microbiology</td>\n",
       "      <td>42.0</td>\n",
       "      <td>India</td>\n",
       "      <td>Antibiotics, ESBL, Mechanisms of resistance, P...</td>\n",
       "      <td>2016</td>\n",
       "    </tr>\n",
       "    <tr>\n",
       "      <th>2</th>\n",
       "      <td>Studying semigroups using the properties of th...</td>\n",
       "      <td>Bulletin of Irkutsk State University, Series M...</td>\n",
       "      <td>1.0</td>\n",
       "      <td>Pakistan</td>\n",
       "      <td>Completely prime m-ideals, Irreducible m-ideal...</td>\n",
       "      <td>2021</td>\n",
       "    </tr>\n",
       "    <tr>\n",
       "      <th>4</th>\n",
       "      <td>Differential m       ...</td>\n",
       "      <td>Molecular Cell</td>\n",
       "      <td>560.0</td>\n",
       "      <td>China, Norway, United States</td>\n",
       "      <td>cap m            ...</td>\n",
       "      <td>2018</td>\n",
       "    </tr>\n",
       "    <tr>\n",
       "      <th>5</th>\n",
       "      <td>Derived operators on M-fuzzifying convex spaces</td>\n",
       "      <td>Journal of Intelligent and Fuzzy Systems</td>\n",
       "      <td>10.0</td>\n",
       "      <td>China</td>\n",
       "      <td>M-fuzzifying convex structure, M-fuzzifying co...</td>\n",
       "      <td>2019</td>\n",
       "    </tr>\n",
       "  </tbody>\n",
       "</table>\n",
       "</div>"
      ],
      "text/plain": [
       "                                               Title  \\\n",
       "0  A rabbit monoclonal antibody-mediated lateral ...   \n",
       "1  blaCTX-M-152, a Novel Variant of CTX-M-group-2...   \n",
       "2  Studying semigroups using the properties of th...   \n",
       "4                           Differential m       ...   \n",
       "5    Derived operators on M-fuzzifying convex spaces   \n",
       "\n",
       "                                        Source title  Cited by  \\\n",
       "0  International Journal of Biological Macromolec...       4.0   \n",
       "1                          Frontiers in Microbiology      42.0   \n",
       "2  Bulletin of Irkutsk State University, Series M...       1.0   \n",
       "4                                     Molecular Cell     560.0   \n",
       "5           Journal of Intelligent and Fuzzy Systems      10.0   \n",
       "\n",
       "                Authors Country  \\\n",
       "0          Japan, United States   \n",
       "1                         India   \n",
       "2                      Pakistan   \n",
       "4  China, Norway, United States   \n",
       "5                         China   \n",
       "\n",
       "                                     Author Keywords  Year  \n",
       "0  CTX-M, ESBL, Lateral flow immunoassay, LFIA, P...  2021  \n",
       "1  Antibiotics, ESBL, Mechanisms of resistance, P...  2016  \n",
       "2  Completely prime m-ideals, Irreducible m-ideal...  2021  \n",
       "4                               cap m            ...  2018  \n",
       "5  M-fuzzifying convex structure, M-fuzzifying co...  2019  "
      ]
     },
     "execution_count": 57,
     "metadata": {},
     "output_type": "execute_result"
    }
   ],
   "source": [
    "df3.head(5)"
   ]
  },
  {
   "cell_type": "code",
   "execution_count": 58,
   "metadata": {},
   "outputs": [
    {
     "name": "stdout",
     "output_type": "stream",
     "text": [
      "<class 'pandas.core.frame.DataFrame'>\n",
      "Index: 73141 entries, 0 to 99999\n",
      "Data columns (total 6 columns):\n",
      " #   Column           Non-Null Count  Dtype  \n",
      "---  ------           --------------  -----  \n",
      " 0   Title            73141 non-null  object \n",
      " 1   Source title     73141 non-null  object \n",
      " 2   Cited by         73141 non-null  float64\n",
      " 3   Authors Country  73141 non-null  object \n",
      " 4   Author Keywords  73141 non-null  object \n",
      " 5   Year             73141 non-null  int64  \n",
      "dtypes: float64(1), int64(1), object(4)\n",
      "memory usage: 3.9+ MB\n"
     ]
    }
   ],
   "source": [
    "df3.info()"
   ]
  },
  {
   "cell_type": "code",
   "execution_count": 3,
   "metadata": {},
   "outputs": [],
   "source": [
    "rename_columns = {\n",
    "    'Year': 'Year',\n",
    "    'Title': 'Title',\n",
    "    'Source title': 'PublicationName',\n",
    "    'Cited by': 'CitedByCount',\n",
    "    'Authors Country': 'AffiliationCountry',\n",
    "    'Author Keywords': 'AuthorKeywords'\n",
    "}\n",
    "df2_renamed = df2[list(rename_columns.keys())].rename(columns=rename_columns)\n",
    "df2_renamed = df2_renamed.reset_index(drop=True)\n",
    "df2_renamed['CitedByCount'] = df2_renamed['CitedByCount'].astype(int)\n",
    "\n",
    "# df3_renamed = df3[list(rename_columns.keys())].rename(columns=rename_columns)\n",
    "# df3_renamed = df3_renamed.reset_index(drop=True)\n",
    "# df3_renamed['CitedByCount'] = df3_renamed['CitedByCount'].astype(int)\n",
    "\n",
    "# df4_renamed = df4[list(rename_columns.keys())].rename(columns=rename_columns)\n",
    "# df4_renamed = df4_renamed.reset_index(drop=True)\n",
    "# df4_renamed['CitedByCount'] = df4_renamed['CitedByCount'].astype(int)\n",
    "\n",
    "# df4_renamed.head(5)"
   ]
  },
  {
   "cell_type": "code",
   "execution_count": 60,
   "metadata": {},
   "outputs": [
    {
     "data": {
      "text/plain": [
       "['Year',\n",
       " 'Title',\n",
       " 'PublicationName',\n",
       " 'CitedByCount',\n",
       " 'AffiliationCountry',\n",
       " 'AuthorKeywords']"
      ]
     },
     "execution_count": 60,
     "metadata": {},
     "output_type": "execute_result"
    }
   ],
   "source": [
    "list(df4_renamed.columns)"
   ]
  },
  {
   "cell_type": "code",
   "execution_count": 61,
   "metadata": {},
   "outputs": [
    {
     "data": {
      "text/plain": [
       "['Year',\n",
       " 'Title',\n",
       " 'PublicationName',\n",
       " 'CitedByCount',\n",
       " 'AffiliationCountry',\n",
       " 'AuthorKeywords']"
      ]
     },
     "execution_count": 61,
     "metadata": {},
     "output_type": "execute_result"
    }
   ],
   "source": [
    "list(df1.columns)"
   ]
  },
  {
   "cell_type": "code",
   "execution_count": 4,
   "metadata": {},
   "outputs": [
    {
     "name": "stdout",
     "output_type": "stream",
     "text": [
      "df1 has 7667 rows\n",
      "df2 has 2000 rows\n"
     ]
    }
   ],
   "source": [
    "num1 = df1.shape[0]\n",
    "num2 = df2_renamed.shape[0]\n",
    "# num3 = df3_renamed.shape[0]\n",
    "# num4 = df4_renamed.shape[0]\n",
    "print(f\"df1 has {num1} rows\")\n",
    "print(f\"df2 has {num2} rows\")\n",
    "# print(f\"df3 has {num3} rows\")\n",
    "# print(f\"df4 has {num4} rows\")\n",
    "# print(f\"sum of rows: {num1 + num2 + num3 + num4}\")"
   ]
  },
  {
   "cell_type": "code",
   "execution_count": 5,
   "metadata": {},
   "outputs": [
    {
     "data": {
      "text/plain": [
       "9667"
      ]
     },
     "execution_count": 5,
     "metadata": {},
     "output_type": "execute_result"
    }
   ],
   "source": [
    "# df_combined = pd.concat([df1, df2_renamed, df3_renamed, df4_renamed], ignore_index=True)\n",
    "df_combined = pd.concat([df1, df2_renamed], ignore_index=True)\n",
    "df_combined.shape[0]"
   ]
  },
  {
   "cell_type": "code",
   "execution_count": 6,
   "metadata": {},
   "outputs": [],
   "source": [
    "df_combined.to_csv('2_data_combined.csv', index=False)"
   ]
  }
 ],
 "metadata": {
  "kernelspec": {
   "display_name": "Python 3",
   "language": "python",
   "name": "python3"
  },
  "language_info": {
   "codemirror_mode": {
    "name": "ipython",
    "version": 3
   },
   "file_extension": ".py",
   "mimetype": "text/x-python",
   "name": "python",
   "nbconvert_exporter": "python",
   "pygments_lexer": "ipython3",
   "version": "3.12.3"
  }
 },
 "nbformat": 4,
 "nbformat_minor": 2
}
