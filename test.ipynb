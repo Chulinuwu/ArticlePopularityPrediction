{
 "cells": [
  {
   "cell_type": "code",
   "execution_count": 2,
   "metadata": {},
   "outputs": [],
   "source": [
    "import pandas as pd"
   ]
  },
  {
   "cell_type": "code",
   "execution_count": 29,
   "metadata": {},
   "outputs": [],
   "source": [
    "df = pd.read_csv(\"real_data.csv\")"
   ]
  },
  {
   "cell_type": "code",
   "execution_count": 30,
   "metadata": {},
   "outputs": [
    {
     "data": {
      "text/html": [
       "<div>\n",
       "<style scoped>\n",
       "    .dataframe tbody tr th:only-of-type {\n",
       "        vertical-align: middle;\n",
       "    }\n",
       "\n",
       "    .dataframe tbody tr th {\n",
       "        vertical-align: top;\n",
       "    }\n",
       "\n",
       "    .dataframe thead th {\n",
       "        text-align: right;\n",
       "    }\n",
       "</style>\n",
       "<table border=\"1\" class=\"dataframe\">\n",
       "  <thead>\n",
       "    <tr style=\"text-align: right;\">\n",
       "      <th></th>\n",
       "      <th>Year</th>\n",
       "      <th>Title</th>\n",
       "      <th>PublicationName</th>\n",
       "      <th>CitedByCount</th>\n",
       "      <th>Asia</th>\n",
       "      <th>Europe</th>\n",
       "      <th>Oceania</th>\n",
       "      <th>North America</th>\n",
       "      <th>Africa</th>\n",
       "      <th>South America</th>\n",
       "      <th>keywords_list</th>\n",
       "      <th>cluster</th>\n",
       "      <th>keyword_category</th>\n",
       "    </tr>\n",
       "  </thead>\n",
       "  <tbody>\n",
       "    <tr>\n",
       "      <th>0</th>\n",
       "      <td>2021</td>\n",
       "      <td>Does proactive logistics management enhance bu...</td>\n",
       "      <td>Polish Journal of Management Studies</td>\n",
       "      <td>0</td>\n",
       "      <td>5</td>\n",
       "      <td>0</td>\n",
       "      <td>0</td>\n",
       "      <td>0</td>\n",
       "      <td>0</td>\n",
       "      <td>0</td>\n",
       "      <td>['Business management', 'Firm size', 'Logistic...</td>\n",
       "      <td>1</td>\n",
       "      <td>Medical and Technological Advances</td>\n",
       "    </tr>\n",
       "    <tr>\n",
       "      <th>1</th>\n",
       "      <td>2021</td>\n",
       "      <td>Will There Ever Be Cure for Chronic, Life-Chan...</td>\n",
       "      <td>Frontiers in Medicine</td>\n",
       "      <td>3</td>\n",
       "      <td>8</td>\n",
       "      <td>2</td>\n",
       "      <td>1</td>\n",
       "      <td>0</td>\n",
       "      <td>0</td>\n",
       "      <td>0</td>\n",
       "      <td>['biofilm infections', 'chronic infection', 'c...</td>\n",
       "      <td>1</td>\n",
       "      <td>Medical and Technological Advances</td>\n",
       "    </tr>\n",
       "    <tr>\n",
       "      <th>2</th>\n",
       "      <td>2021</td>\n",
       "      <td>Bacterial diversity and potential risk factors...</td>\n",
       "      <td>PeerJ</td>\n",
       "      <td>6</td>\n",
       "      <td>1</td>\n",
       "      <td>0</td>\n",
       "      <td>0</td>\n",
       "      <td>1</td>\n",
       "      <td>0</td>\n",
       "      <td>0</td>\n",
       "      <td>['Escherichia coli', 'Risk factors', 'Salmonel...</td>\n",
       "      <td>1</td>\n",
       "      <td>Medical and Technological Advances</td>\n",
       "    </tr>\n",
       "    <tr>\n",
       "      <th>3</th>\n",
       "      <td>2021</td>\n",
       "      <td>Global Perspectives on Immunization Against SA...</td>\n",
       "      <td>Frontiers in Immunology</td>\n",
       "      <td>9</td>\n",
       "      <td>1</td>\n",
       "      <td>8</td>\n",
       "      <td>6</td>\n",
       "      <td>3</td>\n",
       "      <td>2</td>\n",
       "      <td>2</td>\n",
       "      <td>['COVID-19', 'maternal immunization', 'materna...</td>\n",
       "      <td>1</td>\n",
       "      <td>Medical and Technological Advances</td>\n",
       "    </tr>\n",
       "    <tr>\n",
       "      <th>4</th>\n",
       "      <td>2021</td>\n",
       "      <td>Deep Learning Enables Prostate MRI Segmentatio...</td>\n",
       "      <td>Frontiers in Oncology</td>\n",
       "      <td>4</td>\n",
       "      <td>2</td>\n",
       "      <td>1</td>\n",
       "      <td>0</td>\n",
       "      <td>4</td>\n",
       "      <td>0</td>\n",
       "      <td>0</td>\n",
       "      <td>['deep attentive neural network', 'large cohor...</td>\n",
       "      <td>1</td>\n",
       "      <td>Medical and Technological Advances</td>\n",
       "    </tr>\n",
       "  </tbody>\n",
       "</table>\n",
       "</div>"
      ],
      "text/plain": [
       "   Year                                              Title  \\\n",
       "0  2021  Does proactive logistics management enhance bu...   \n",
       "1  2021  Will There Ever Be Cure for Chronic, Life-Chan...   \n",
       "2  2021  Bacterial diversity and potential risk factors...   \n",
       "3  2021  Global Perspectives on Immunization Against SA...   \n",
       "4  2021  Deep Learning Enables Prostate MRI Segmentatio...   \n",
       "\n",
       "                        PublicationName  CitedByCount  Asia  Europe  Oceania  \\\n",
       "0  Polish Journal of Management Studies             0     5       0        0   \n",
       "1                 Frontiers in Medicine             3     8       2        1   \n",
       "2                                 PeerJ             6     1       0        0   \n",
       "3               Frontiers in Immunology             9     1       8        6   \n",
       "4                 Frontiers in Oncology             4     2       1        0   \n",
       "\n",
       "   North America  Africa  South America  \\\n",
       "0              0       0              0   \n",
       "1              0       0              0   \n",
       "2              1       0              0   \n",
       "3              3       2              2   \n",
       "4              4       0              0   \n",
       "\n",
       "                                       keywords_list  cluster  \\\n",
       "0  ['Business management', 'Firm size', 'Logistic...        1   \n",
       "1  ['biofilm infections', 'chronic infection', 'c...        1   \n",
       "2  ['Escherichia coli', 'Risk factors', 'Salmonel...        1   \n",
       "3  ['COVID-19', 'maternal immunization', 'materna...        1   \n",
       "4  ['deep attentive neural network', 'large cohor...        1   \n",
       "\n",
       "                     keyword_category  \n",
       "0  Medical and Technological Advances  \n",
       "1  Medical and Technological Advances  \n",
       "2  Medical and Technological Advances  \n",
       "3  Medical and Technological Advances  \n",
       "4  Medical and Technological Advances  "
      ]
     },
     "execution_count": 30,
     "metadata": {},
     "output_type": "execute_result"
    }
   ],
   "source": [
    "df.head(5)"
   ]
  },
  {
   "cell_type": "code",
   "execution_count": 31,
   "metadata": {},
   "outputs": [
    {
     "data": {
      "text/plain": [
       "(8630, 13)"
      ]
     },
     "execution_count": 31,
     "metadata": {},
     "output_type": "execute_result"
    }
   ],
   "source": [
    "df.shape"
   ]
  },
  {
   "cell_type": "code",
   "execution_count": 22,
   "metadata": {},
   "outputs": [
    {
     "data": {
      "text/plain": [
       "keyword_category\n",
       "Medical and Technological Advances    13230\n",
       "Materials Science and Taxonomy         1104\n",
       "Cell Biology and Biochemistry           741\n",
       "Sustainability and Diversity            676\n",
       "Public Health and Epidemiology          661\n",
       "Name: count, dtype: int64"
      ]
     },
     "execution_count": 22,
     "metadata": {},
     "output_type": "execute_result"
    }
   ],
   "source": [
    "df['keyword_category'].value_counts()"
   ]
  },
  {
   "cell_type": "code",
   "execution_count": 32,
   "metadata": {},
   "outputs": [
    {
     "data": {
      "text/plain": [
       "Year\n",
       "2022    3049\n",
       "2021    2641\n",
       "2023    2145\n",
       "2011      60\n",
       "2012      55\n",
       "2018      51\n",
       "2020      51\n",
       "2014      51\n",
       "2019      51\n",
       "2013      50\n",
       "2015      47\n",
       "2017      46\n",
       "2024      44\n",
       "2010      42\n",
       "2016      42\n",
       "2006      29\n",
       "2005      24\n",
       "2008      24\n",
       "2009      24\n",
       "2007      18\n",
       "2004      18\n",
       "2002      10\n",
       "2003       9\n",
       "1992       6\n",
       "2001       4\n",
       "1997       4\n",
       "1994       4\n",
       "1980       4\n",
       "1999       3\n",
       "1995       3\n",
       "1991       3\n",
       "1986       3\n",
       "2000       2\n",
       "1998       2\n",
       "1988       2\n",
       "1985       2\n",
       "1983       2\n",
       "1993       2\n",
       "1979       1\n",
       "1981       1\n",
       "1977       1\n",
       "Name: count, dtype: int64"
      ]
     },
     "execution_count": 32,
     "metadata": {},
     "output_type": "execute_result"
    }
   ],
   "source": [
    "df['Year'].value_counts()"
   ]
  }
 ],
 "metadata": {
  "kernelspec": {
   "display_name": "Python 3",
   "language": "python",
   "name": "python3"
  },
  "language_info": {
   "codemirror_mode": {
    "name": "ipython",
    "version": 3
   },
   "file_extension": ".py",
   "mimetype": "text/x-python",
   "name": "python",
   "nbconvert_exporter": "python",
   "pygments_lexer": "ipython3",
   "version": "3.12.3"
  }
 },
 "nbformat": 4,
 "nbformat_minor": 2
}
